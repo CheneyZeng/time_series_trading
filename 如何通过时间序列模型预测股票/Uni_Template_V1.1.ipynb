{
 "cells": [
  {
   "cell_type": "markdown",
   "metadata": {},
   "source": [
    "![udlogo.png](img/logo1.png)"
   ]
  },
  {
   "cell_type": "markdown",
   "metadata": {},
   "source": [
    "![logo3.png](img/logo3.png)"
   ]
  },
  {
   "cell_type": "markdown",
   "metadata": {},
   "source": [
    "版本号：1.1\n",
    "\n",
    "作者：Jack Chen\n",
    "\n",
    "协助：Jerry、Rita、ShuWen\n",
    "\n",
    "更新日期：2018.12.17"
   ]
  },
  {
   "cell_type": "markdown",
   "metadata": {},
   "source": [
    "# 课程开发要点\n",
    "\n",
    "\n",
    "\n",
    "1. **课程结构**\n",
    "\n",
    "    1.1 可以参照下方的课程架构部分\n",
    "    \n",
    "    1.2 关于时间设计，可以在习题的题干后面标注预估完成时间\n",
    "    \n",
    "    1.3 可以根据各课程的需要拓展教学板块\n",
    "\n",
    "\n",
    "2. **形式**\n",
    "\n",
    "    2.1 加粗：使用在课程重点内容的部分，用于强调其重要性 \n",
    "        用法：**TEXT**\n",
    "        \n",
    "    2.2 字体、字号与颜色：用于不同模块的区分，例如：知识点环节的标题可以使用蓝色，举例子的环节可以使用紫色\n",
    "        用法：<font color=#0099ff size=7 face=\"黑体\">color=#0099ff size=72 face=\"黑体\"</font>\n",
    "        \n",
    "    2.3 加载图片：多媒体的使用是增强课程趣味性的方法之一，因此在不侵犯他人版权的情况下可以适当配图进行说明,请注意本节课使用到的所有图片应该放置在同一个文件夹内，例如img，路径设置如下：\n",
    "        ![logo1.png](img/logo1.png)\n",
    "        \n",
    "    2.4 加载视频：同样的道理，导入视频也可以帮助学生理解内容，但需要注意视频是否能够正常播放，最好将视频放置在同一个文件夹中\n",
    "        <video controls src=\"video/dog.mp4\" />\n",
    "        \n",
    "    2.5 在【标记】状态下按右键可以选择一些表情作警告提示⚠️等作用\n",
    "    \n",
    "    2.6 更多功能请访问官网文档：https://jupyter-notebook.readthedocs.io/en/latest/notebook.html\n",
    "\n",
    "\n",
    "3. **LOGO**\n",
    "\n",
    "    3.1 在直播课中不使用Udacity教室，因此需要在大纲的开头和结尾都放上Udacity的LOGO\n",
    "    \n",
    "    \n",
    "4. **打包与使用**\n",
    "\n",
    "    4.1 在完成了课件之后，应在notebook同一目录下创建一个文件夹，把所用到的图片、视频放在这个文件夹中，添加为压缩包\n",
    "    \n",
    "    4.2 最后分享给助教老师的课件形式应该是一个完整的压缩包\n",
    "    \n",
    "    \n",
    "    "
   ]
  },
  {
   "cell_type": "markdown",
   "metadata": {},
   "source": [
    "# 课程架构\n",
    "我将一节课的结构分为以下的不同步骤，你可以使用下面的链接来直接定位不同的部分\n",
    "* [Step 0](#step1): 课程主题\n",
    "\n",
    "* [Step 1](#step1): 上次课程回顾\n",
    "    * [Step 1.1](#step1.1): 上节课知识点\n",
    "    * [Step 1.2](#step1.2): 上节课练习代码\n",
    "    * [Step 1.2](#step1.3): 上节课练习代码运行的效果\n",
    "       \n",
    "* [Step 2](#step1): 衔接过度到本节课的知识点主题\n",
    "    \n",
    "* [Step 3](#step3): 新的知识点\n",
    "    * [Step 3.1](#step3.1): 知识点的概念讲解\n",
    "    * [Step 3.2](#step3.2): 知识点的作用\n",
    "    * [Step 3.3](#step3.3): 知识点的语法结构\n",
    "    * [Step 3.4](#step3.4): 语法结构的讲解\n",
    "    \n",
    "* [Step 4](#step4): 习题\n",
    "    * [Step 4.1](#step4.1): 当堂习题[ex1](#ex1)\n",
    "    * [Step 4.2](#step4.2): 当堂习题[ex1_s](#ex1_s)的解题思路与答案\n",
    "    \n",
    "* [Step 5](#step5): 课程内容总结\n",
    "\n",
    "* [Step 6](#step6): 优达课程资料\n",
    "\n",
    "* [Step 7](#step7): 作业内容与提交时间\n",
    "\n",
    "* [Step 8](#step8): 导师联系与答疑"
   ]
  },
  {
   "cell_type": "markdown",
   "metadata": {},
   "source": [
    "<a id='step0'></a>\n",
    "# 本节课的主题"
   ]
  },
  {
   "cell_type": "markdown",
   "metadata": {},
   "source": [
    "【例】\n",
    "\n",
    "# 循环"
   ]
  },
  {
   "cell_type": "markdown",
   "metadata": {},
   "source": [
    "<a id='step5'></a>\n",
    "# 5. 课程回顾"
   ]
  },
  {
   "cell_type": "markdown",
   "metadata": {},
   "source": [
    "<a id='step1.1'></a>\n",
    "## 5.1 回顾上节课知识点"
   ]
  },
  {
   "cell_type": "markdown",
   "metadata": {},
   "source": [
    "【例】在之前的章节中我们已经对**_turtle_**模块非常熟悉了，可以使用forward()、left()等语法画出各种各样的图形，例如下面的代码将会画出一个**<font color='orange'>橙色</font>**的正方形"
   ]
  },
  {
   "cell_type": "markdown",
   "metadata": {},
   "source": [
    "<a id='step1.2'></a>\n",
    "## 1.2 回顾上节课练习内容\n",
    "最好以代码形式呈现，代码需要良好的标注"
   ]
  },
  {
   "cell_type": "code",
   "execution_count": null,
   "metadata": {},
   "outputs": [],
   "source": [
    "# 【例】\n",
    "import turtle\n",
    "import os\n",
    "\n",
    "# 固定的turtle初始化过程\n",
    "jack = turtle.Turtle()\n",
    "jack.color('orange')\n",
    "jack.shape('turtle')\n",
    "\n",
    "# 画出一条长为100的边\n",
    "jack.forward(100)\n",
    "# 向左旋转90度\n",
    "jack.left(90)\n",
    "# 重复3次画出一个4边形\n",
    "jack.forward(100)\n",
    "jack.left(90)\n",
    "jack.forward(100)\n",
    "jack.left(90)\n",
    "jack.forward(100)\n",
    "jack.left(90)\n",
    "\n",
    "# 正确地关闭程序\n",
    "turtle.done()\n",
    "os._exit(0)\n"
   ]
  },
  {
   "cell_type": "markdown",
   "metadata": {},
   "source": [
    "<a id='step1.3'></a>\n",
    "## 1.3 练习代码运行的效果\n",
    "代码运行成功后的截图，可以是静态图或者动态图"
   ]
  },
  {
   "cell_type": "markdown",
   "metadata": {},
   "source": [
    "【例】\n",
    "![pic1.png](img/pic1.png)"
   ]
  },
  {
   "cell_type": "markdown",
   "metadata": {},
   "source": [
    "<a id='step2'></a>\n",
    "# 2 知识点的衔接与过度\n",
    "   回顾完成之后需要做出恰当的衔接并引出本节课的知识点\n",
    "\n",
    "   【例】我们在以上代码中不断地使用了**相同**的代码行\n",
    "\n",
    "   这还仅仅是一个拥有**<font color='green'>4</font>**条边的形状\n",
    "\n",
    "   那么现在请你画出**<font color='red'>100</font>**条边的形状\n",
    "     \n",
    " ![P1.png](img/P1.jpeg)\n",
    "          \n",
    "   我已经猜到你也不会有耐心去写那么多行的代码了\n",
    "     \n",
    "   其实拥有了计算机思维之后，类似这种**<font color='red'>重复率</font>**很高的代码实际上并没有必要出现\n",
    "\n",
    "   **<font size=3>我们只需要使用到for循环,就可以使用很少的代码画出任何条边数的形状</font>**\n",
    "\n",
    "   这节课我们将主要研究Python中的for循环概念及用法\n"
   ]
  },
  {
   "cell_type": "markdown",
   "metadata": {},
   "source": [
    "<a id='step3'></a>\n",
    "# 3 新的知识点\n",
    "    【例】for循环\n",
    "\n"
   ]
  },
  {
   "cell_type": "markdown",
   "metadata": {},
   "source": [
    "<a id='step3.1'></a>\n",
    "##  3.1 知识点的概念讲解\n",
    "    请注意⚠️，做好搭配一个或多个生活化的例子来解释这个知识点，选择图片的时候请注意不要侵犯他人的版权"
   ]
  },
  {
   "cell_type": "markdown",
   "metadata": {},
   "source": [
    "【例】\n",
    "\n",
    "**<font color='darkcyan'>优达知识点</font>**\n",
    "\n",
    "for循环是Python中执行**有限次数**的循环结构\n",
    "\n",
    "**<font color='purple'>举例</font>** 比如你想画10只羊，看100次电影，收1000次作业本，或者去10000次浪漫的土耳其，for循环都可以帮你轻松做到\n",
    "\n",
    " ![P1.png](img/P2.jpeg)"
   ]
  },
  {
   "cell_type": "markdown",
   "metadata": {},
   "source": [
    "<a id='step3.2'></a>\n",
    "## 3.2 知识点的作用\n",
    "    学了这个知识点有什么作用？能在哪些场景应用？同样可以放一些图片帮助学生理解\n",
    "    \n",
    "   【例】可以让计算机帮助我们完成枯燥乏味、重复率又很高的工作，比如给工厂中新生产的十万件商品贴上标签等等"
   ]
  },
  {
   "cell_type": "markdown",
   "metadata": {},
   "source": [
    "<a id='step3.3'></a>\n",
    "## 3.3 知识点的语法结构\n",
    "    在程序中应该怎样去编写\n",
    "    \n",
    "    #【例】for循环的语法结构"
   ]
  },
  {
   "cell_type": "code",
   "execution_count": null,
   "metadata": {},
   "outputs": [],
   "source": [
    "for side in [1,2,3,4]:\n",
    "----jack.forward(100)\n",
    "----jack.right(90)"
   ]
  },
  {
   "cell_type": "markdown",
   "metadata": {},
   "source": [
    "<a id='step3.4'></a>\n",
    "## 3.4 语法结构的讲解\n",
    "    每个组件分别代表什么意义？有哪些细节容易犯错需要注意？\n",
    "    \n",
    "   【例】\n",
    "    **<font color='darkcyan'>优达知识点</font>**\n",
    "\n",
    "   1. **[ ]** 代表着列表list，这是我们即将循环的代码\n",
    "   2. **：** 冒号意味着后面还有需要继续执行的内容，非常容易遗漏，请同学们注意检查\n",
    "   3. **----** 是Python中特有的缩进，通常情况下为4个空格，这代表着这几行位于循环中, 换句话说：这几行会重复执行\n",
    "   4. **for ... in ...** 结构代表着运行list结构中的每一项元素，在这里[1,2,3,4]共有4个元素，所以会运行4次\n"
   ]
  },
  {
   "cell_type": "markdown",
   "metadata": {},
   "source": [
    "##  优达问答时间"
   ]
  },
  {
   "cell_type": "markdown",
   "metadata": {},
   "source": [
    "为了保障与学生的互动，建议老师根据自己教学的实际情况设置一些小问题"
   ]
  },
  {
   "cell_type": "markdown",
   "metadata": {},
   "source": [
    "<a id='step4'></a>\n",
    "# 4 习题"
   ]
  },
  {
   "cell_type": "markdown",
   "metadata": {},
   "source": [
    "<a id='step4.1'></a>\n",
    "## 4.1 当堂习题\n",
    "   形式可以多样 - 选择题、填空题、简单的代码编写题，但请注意⚠️每个知识点学生的练习时间不推荐超过5分钟，在设置练习的时候需要把握时长\n",
    "\n",
    "   【例】\n",
    "    <a id='ex1'></a>\n",
    "    **<font color='darkcyan'>ex1 优达习题1</font>**\n",
    "\n",
    "   如果将 [1, 2, 3, 4, 5] 替换为 [1, 0, 1, 0, 1]，会发生什么？\n",
    "\n",
    "   思考下这个问题，然后在代码里尝试一下！从下面的选项中挑选出正确答案\n",
    "\n",
    "   1. 出现错误\n",
    "   2. turtle画出和之前完全一样的五边形\n",
    "   3. turtle画出一个三角形，针对列表中的每个1画出一条边\n",
    "   4. turtle在一条线上来回移动"
   ]
  },
  {
   "cell_type": "markdown",
   "metadata": {},
   "source": [
    "<a id='step4.2'></a>\n",
    "## 4.2 当堂习题答案\n",
    "   同样需要有解题思路和答案\n",
    "\n",
    "   <a id='ex1_s'></a>\n",
    "   **<font color='darkcyan'>ex1 优达习题1答案</font>**\n",
    "\n",
    "   **<font color='green'>2. turtle画出和之前完全一样的五边形</font>**\n",
    "\n",
    "   答对了👍 在此循环里，列表中的数字并不重要；只是有五个数字这个事实很重要。"
   ]
  },
  {
   "cell_type": "markdown",
   "metadata": {},
   "source": [
    "<a id='step4.3'></a>\n",
    "## 4.3 再放一个代码习题的例子"
   ]
  },
  {
   "cell_type": "markdown",
   "metadata": {},
   "source": [
    "### 优达习题 ex2 示例 - 将列表赋值给变量\n",
    "\n",
    "在 Python 中，列表项放入方括号里，并用逗号分隔列表项。\n",
    "\n",
    "你从这节课的第一个示例就看到列表了，当时我们的 turtle 叫做 george，并绘制出一个正方形：\n",
    "\n",
    "for side in [1, 2, 3, 4]:\n",
    "    george.forward(100)\n",
    "    george.right(90)\n",
    "    \n",
    "此代码中的列表是 [1, 2, 3, 4]。列表和 for 循环紧密合作。\n",
    "\n",
    "但在上述示例（以及我们到目前为止见过的所有示例）中，我们并没有实际使用列表中的数字，只是考虑到有四个列表项。\n",
    "\n",
    "（是 four 循环，算押韵吧。）"
   ]
  },
  {
   "cell_type": "markdown",
   "metadata": {},
   "source": [
    "### 优达习题 ex2 解题思路与代码 - 将列表赋值给变量\n",
    "\n",
    "  '''\n",
    "  ⚠️ 剧透！\n",
    "  下面是我们的解决方案。如果你能认真完成练习，然后再将你的代码与我们的代码进行对比，学习效果将更好！\n",
    "  '''\n",
    "\n",
    "  解题思路：\n",
    "  1. turtle的属性初始化\n",
    "  2. 创建一个长度为12的列表，你可以给这个列表起一个响亮的名字\n",
    "  3. 遍历列表中的每一个元素\n",
    "     3.1 在循环内部做你想让turtle完成的事情\n",
    "  4. 正确地关闭程序"
   ]
  },
  {
   "cell_type": "code",
   "execution_count": null,
   "metadata": {},
   "outputs": [],
   "source": [
    "import turtle\n",
    "import os \n",
    "\n",
    "# turtle的初始化\n",
    "jack = turtle.Turtle()\n",
    "jack.color(\"purple\")\n",
    "jack.shape(\"turtle\")\n",
    "\n",
    "# 创建一个名为some_list长度为12的列表\n",
    "some_list = [0, 0, 0, 0, 0, 0, 0, 0, 0, 0, 0, 0]\n",
    "\n",
    "# 遍历列表中的每一个元素\n",
    "for item in some_list:\n",
    "    # 不要忘记缩进！这部分应该在for循环内\n",
    "    jack.forward(50)\n",
    "    jack.right(30)\n",
    "    \n",
    "# 关闭程序\n",
    "os._exit(0)\n",
    "turtle.done()"
   ]
  },
  {
   "cell_type": "markdown",
   "metadata": {},
   "source": [
    "<a id='step5'></a>\n",
    "# 5 课程内容总结   \n",
    "    1. 知识点A\n",
    "    2. 知识点B\n",
    "    3. 知识点C"
   ]
  },
  {
   "cell_type": "markdown",
   "metadata": {},
   "source": [
    "<a id='step6'></a>\n",
    "# 6 优达课程资料    \n",
    "    \n",
    "    希望本节课你已经掌握了所有的知识点，老师在这里也列出了本节课相关的资料\n",
    "\n",
    "    温故而知新，同学们可以自觉进入到Udacity的在线教室观看哦\n",
    "\n",
    "    1. 课程对应的视频及练习 \n",
    "        ***这里放置URL***\n",
    "\n",
    "    2. 课程源代码链接\n",
    "        ***github链接***\n"
   ]
  },
  {
   "cell_type": "markdown",
   "metadata": {},
   "source": [
    "<a id='step7'></a>\n",
    "# 7 作业内容与提交时间\n",
    "    7.1 作业内容：\n",
    "\n",
    "    7.2 提交方式：\n",
    "\n",
    "    7.3 截止时间：\n",
    "\n",
    "    7.4 获取成绩时间：\n",
    "\n",
    "    7.5 获取成绩方式："
   ]
  },
  {
   "cell_type": "markdown",
   "metadata": {},
   "source": [
    "<a id='step8'></a>\n",
    "# 8 导师联系与答疑\n",
    "    有任何问题可以联系导师进行1on1的解答\n",
    "\n",
    "    WeChat：\n",
    "\n",
    "    Phone:\n",
    "\n",
    "    谢谢！我们下次课再见！"
   ]
  },
  {
   "cell_type": "markdown",
   "metadata": {},
   "source": [
    "**最后放上UDACITY的LOGO增强版权保护和品牌宣传**"
   ]
  },
  {
   "cell_type": "markdown",
   "metadata": {},
   "source": [
    "![logo2.png](img/logo2.jpg)"
   ]
  }
 ],
 "metadata": {
  "kernelspec": {
   "display_name": "Python 3",
   "language": "python",
   "name": "python3"
  },
  "language_info": {
   "codemirror_mode": {
    "name": "ipython",
    "version": 3
   },
   "file_extension": ".py",
   "mimetype": "text/x-python",
   "name": "python",
   "nbconvert_exporter": "python",
   "pygments_lexer": "ipython3",
   "version": "3.7.0"
  },
  "toc": {
   "base_numbering": 1,
   "nav_menu": {},
   "number_sections": false,
   "sideBar": true,
   "skip_h1_title": false,
   "title_cell": "Table of Contents",
   "title_sidebar": "Contents",
   "toc_cell": false,
   "toc_position": {
    "height": "calc(100% - 180px)",
    "left": "10px",
    "top": "150px",
    "width": "274.391px"
   },
   "toc_section_display": true,
   "toc_window_display": true
  }
 },
 "nbformat": 4,
 "nbformat_minor": 2
}
